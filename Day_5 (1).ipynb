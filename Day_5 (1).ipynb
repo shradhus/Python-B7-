{
  "nbformat": 4,
  "nbformat_minor": 0,
  "metadata": {
    "colab": {
      "name": "Day 5.ipynb",
      "provenance": []
    },
    "kernelspec": {
      "name": "python3",
      "display_name": "Python 3"
    }
  },
  "cells": [
    {
      "cell_type": "code",
      "metadata": {
        "id": "kdOjeOesvALc",
        "colab_type": "code",
        "colab": {
          "base_uri": "https://localhost:8080/",
          "height": 68
        },
        "outputId": "815e4440-f857-4d28-ec6b-133df74c53ac"
      },
      "source": [
        "# Question 1\n",
        "test_list = [1, 5,6 ,4,1,2,3,5] \n",
        "sub_list = [1, 1, 5] \n",
        "  \n",
        "# printing original lists \n",
        "print (\"Original list : \" + str(test_list)) \n",
        "print (\"Original sub list : \" + str(sub_list)) \n",
        "  \n",
        "# using all() to  \n",
        "# check subset of list  \n",
        "flag = 0\n",
        "if(all(x in test_list for x in sub_list)): \n",
        "    flag = 1\n",
        "      \n",
        "# printing result \n",
        "if (flag) : \n",
        "    print (\"Yes, list is subset of other.\") \n",
        "else : \n",
        "    print (\"No, list is not subset of other.\") "
      ],
      "execution_count": 2,
      "outputs": [
        {
          "output_type": "stream",
          "text": [
            "Original list : [1, 5, 6, 4, 1, 2, 3, 5]\n",
            "Original sub list : [1, 1, 5]\n",
            "Yes, list is subset of other.\n"
          ],
          "name": "stdout"
        }
      ]
    },
    {
      "cell_type": "code",
      "metadata": {
        "id": "cSi_Lp_z4rN8",
        "colab_type": "code",
        "colab": {}
      },
      "source": [
        ""
      ],
      "execution_count": null,
      "outputs": []
    },
    {
      "cell_type": "code",
      "metadata": {
        "id": "N4DcOukAvknI",
        "colab_type": "code",
        "colab": {
          "base_uri": "https://localhost:8080/",
          "height": 34
        },
        "outputId": "6a70a398-cd66-4a99-e3b0-2993361b5624"
      },
      "source": [
        "#Question 2\n",
        "lit = {}\n",
        "def is_prime(num):\n",
        "   for j in range(2, num):\n",
        "      if num % j == 0:\n",
        "         return False\n",
        "   else:\n",
        "      return True\n",
        "primes = filter(is_prime, range(1, 2500))\n",
        "print(primes)"
      ],
      "execution_count": 51,
      "outputs": [
        {
          "output_type": "stream",
          "text": [
            "<filter object at 0x7f5255fde128>\n"
          ],
          "name": "stdout"
        }
      ]
    },
    {
      "cell_type": "code",
      "metadata": {
        "id": "sNr36RtVvk8e",
        "colab_type": "code",
        "colab": {}
      },
      "source": [
        "for i in primes:\n",
        "    on = lit.append(i)\n",
        "    print(on)"
      ],
      "execution_count": 62,
      "outputs": []
    },
    {
      "cell_type": "code",
      "metadata": {
        "id": "V_mnB4pu01If",
        "colab_type": "code",
        "colab": {
          "base_uri": "https://localhost:8080/",
          "height": 35
        },
        "outputId": "49300cfb-9eac-4bcd-dc13-3d7661f5c019"
      },
      "source": [
        "#lambda\n",
        "\n",
        "obj =lambda string : string.title()\n",
        "obj(\"hey this is sai,i am in mumbai\")"
      ],
      "execution_count": 49,
      "outputs": [
        {
          "output_type": "execute_result",
          "data": {
            "application/vnd.google.colaboratory.intrinsic+json": {
              "type": "string"
            },
            "text/plain": [
              "'Hey This Is Sai,I Am In Mumbai'"
            ]
          },
          "metadata": {
            "tags": []
          },
          "execution_count": 49
        }
      ]
    }
  ]
}