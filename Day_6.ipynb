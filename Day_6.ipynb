{
  "nbformat": 4,
  "nbformat_minor": 0,
  "metadata": {
    "colab": {
      "name": "Day 6.ipynb",
      "provenance": []
    },
    "kernelspec": {
      "name": "python3",
      "display_name": "Python 3"
    }
  },
  "cells": [
    {
      "cell_type": "code",
      "metadata": {
        "id": "SpLJvoBQUKjb",
        "colab_type": "code",
        "colab": {}
      },
      "source": [
        "# Simple Class is created Bank Account and Check Balance\n",
        "\n",
        "class bankAccount():\n",
        "   \n",
        "    #Initialization\n",
        "    def __init__(self,onwerName,balance):\n",
        "        self.onwerName = onwerName \n",
        "        self.balance = balance\n",
        "      \n",
        "      #Methods\n",
        "    def getDeposit(self):\n",
        "        print(\"Onwer Name \",self.onwerName)\n",
        "        print(\"Balance\", self.balance)\n",
        "        print(\"Deposit \", self.balance + 3000)\n",
        "        print(\"Withdraw \",self.balance -5000)\n",
        "    "
      ],
      "execution_count": 8,
      "outputs": []
    },
    {
      "cell_type": "code",
      "metadata": {
        "id": "enS4AUzAVrb8",
        "colab_type": "code",
        "colab": {
          "base_uri": "https://localhost:8080/",
          "height": 85
        },
        "outputId": "edda3982-44ac-4f3e-9a35-88e381e1b66f"
      },
      "source": [
        "obj = bankAccount(\"Sai\",20000)\n",
        "obj.getDeposit()"
      ],
      "execution_count": 9,
      "outputs": [
        {
          "output_type": "stream",
          "text": [
            "Onwer Name  Sai\n",
            "Balance 20000\n",
            "Deposit  23000\n",
            "Withdraw  15000\n"
          ],
          "name": "stdout"
        }
      ]
    },
    {
      "cell_type": "code",
      "metadata": {
        "id": "QLVn8jpFXrnB",
        "colab_type": "code",
        "colab": {
          "base_uri": "https://localhost:8080/",
          "height": 34
        },
        "outputId": "7badf10c-7532-4936-8169-fb862e67fe24"
      },
      "source": [
        "obj.balance"
      ],
      "execution_count": 10,
      "outputs": [
        {
          "output_type": "execute_result",
          "data": {
            "text/plain": [
              "20000"
            ]
          },
          "metadata": {
            "tags": []
          },
          "execution_count": 10
        }
      ]
    },
    {
      "cell_type": "code",
      "metadata": {
        "id": "JabM252nXyC-",
        "colab_type": "code",
        "colab": {}
      },
      "source": [
        "class cone():\n",
        "\n",
        "    def __init__(self,radius, height):\n",
        "        self.radius = radius\n",
        "        self.height = height\n",
        "\n",
        "    def getVolume(self):\n",
        "        a=(3.14*self.radius**2)\n",
        "        b=(self.height /3)\n",
        "        c= (a+b)\n",
        "        print(c)\n",
        "        \n",
        "      def getSurface(self):\n",
        "        print(\"cnbacn\")"
      ],
      "execution_count": 42,
      "outputs": []
    },
    {
      "cell_type": "code",
      "metadata": {
        "id": "VJNl_xHgXyNV",
        "colab_type": "code",
        "colab": {
          "base_uri": "https://localhost:8080/",
          "height": 34
        },
        "outputId": "7e96a47b-2469-499e-bc55-af12234100cc"
      },
      "source": [
        "o = cone(4,5)\n",
        "o.getVolume()"
      ],
      "execution_count": 43,
      "outputs": [
        {
          "output_type": "stream",
          "text": [
            "51.906666666666666\n"
          ],
          "name": "stdout"
        }
      ]
    },
    {
      "cell_type": "code",
      "metadata": {
        "id": "eXLcDS58XySN",
        "colab_type": "code",
        "colab": {}
      },
      "source": [
        ""
      ],
      "execution_count": 45,
      "outputs": []
    }
  ]
}